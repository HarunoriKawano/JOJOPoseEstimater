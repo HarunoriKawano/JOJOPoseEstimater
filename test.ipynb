{
 "cells": [
  {
   "cell_type": "code",
   "execution_count": 11,
   "metadata": {
    "collapsed": true,
    "pycharm": {
     "name": "#%%\n"
    }
   },
   "outputs": [
    {
     "name": "stdout",
     "output_type": "stream",
     "text": [
      "(377, 293, 4)\n",
      "377 293\n"
     ]
    }
   ],
   "source": [
    "import numpy as np\n",
    "import torch\n",
    "import torch.nn.functional as F\n",
    "from PIL import Image\n",
    "\n",
    "jojo = Image.open(\"data/jojo.png\")\n",
    "jojo = jojo.convert('RGBA')\n",
    "\n",
    "jojo = np.array(jojo)\n",
    "print(jojo.shape)\n",
    "height = jojo.shape[0]\n",
    "width = jojo.shape[1]\n",
    "print(height, width)\n",
    "for i in range(height):\n",
    "    for j in range(width):\n",
    "        b = jojo[i][j][0]\n",
    "        r = jojo[i][j][1]\n",
    "        g = jojo[i][j][2]\n",
    "        a = jojo[i][j][3]\n",
    "\n",
    "        if jojo[i][j][0] == 255 & jojo[i][j][1] == 255 & jojo[i][j][2] == 255:\n",
    "            jojo[i][j][0] = b\n",
    "            jojo[i][j][1] = r\n",
    "            jojo[i][j][2] = g\n",
    "            jojo[i][j][3] = 0\n",
    "\n",
    "jojo = Image.fromarray(jojo)\n",
    "jojo.show()"
   ]
  },
  {
   "cell_type": "code",
   "execution_count": 10,
   "outputs": [],
   "source": [
    "from PIL import Image\n",
    "\n",
    "bg = Image.open('data/bg_test.jpg')\n",
    "img = Image.open('test.png')\n",
    "bg = bg.convert('RGBA')\n",
    "\n",
    "img_clear = Image.new(\"RGBA\", bg.size, (255, 255, 255, 0))\n",
    "\n",
    "w, h = img.size\n",
    "bg_w, bg_h = bg.size\n",
    "\n",
    "#透明画像の上にペースト\n",
    "img_clear.paste(img, (bg_w-w-200, bg_h-h))\n",
    "\n",
    "bg = Image.alpha_composite(bg, img_clear)\n",
    "\n",
    "bg.show()"
   ],
   "metadata": {
    "collapsed": false,
    "pycharm": {
     "name": "#%%\n"
    }
   }
  },
  {
   "cell_type": "code",
   "execution_count": null,
   "outputs": [],
   "source": [],
   "metadata": {
    "collapsed": false,
    "pycharm": {
     "name": "#%%\n"
    }
   }
  }
 ],
 "metadata": {
  "kernelspec": {
   "display_name": "Python 3",
   "language": "python",
   "name": "python3"
  },
  "language_info": {
   "codemirror_mode": {
    "name": "ipython",
    "version": 2
   },
   "file_extension": ".py",
   "mimetype": "text/x-python",
   "name": "python",
   "nbconvert_exporter": "python",
   "pygments_lexer": "ipython2",
   "version": "2.7.6"
  }
 },
 "nbformat": 4,
 "nbformat_minor": 0
}